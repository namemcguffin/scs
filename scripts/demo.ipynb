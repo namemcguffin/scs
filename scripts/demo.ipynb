{
 "cells": [
  {
   "cell_type": "markdown",
   "metadata": {},
   "source": [
    "# SCS jupyter notebook demo\n",
    "\n",
    "the following notebook aims to be a demonstration of how to integrate SCS into a scanpy-driven analysis workflow"
   ]
  },
  {
   "cell_type": "code",
   "execution_count": null,
   "metadata": {},
   "outputs": [],
   "source": [
    "# create temp directory to store SCS inputs\n",
    "\n",
    "import tempfile\n",
    "\n",
    "temp_dir = tempfile.TemporaryDirectory()"
   ]
  },
  {
   "cell_type": "code",
   "execution_count": null,
   "metadata": {},
   "outputs": [],
   "source": [
    "# generate anndata object from GSE entry GSE258835\n",
    "\n",
    "import tarfile\n",
    "from io import BytesIO\n",
    "from urllib.request import urlopen\n",
    "\n",
    "import anndata as ad\n",
    "import numpy as np\n",
    "import pandas as pd\n",
    "import scanpy as sc\n",
    "\n",
    "# read in tar archive from GEO entry\n",
    "with urlopen(\n",
    "    \"https://www.ncbi.nlm.nih.gov/geo/download/?acc=GSE258835&format=file\"\n",
    ") as f:\n",
    "    tar = tarfile.open(fileobj=BytesIO(f.read()))\n",
    "\n",
    "# read in each individual sample\n",
    "adatas = []\n",
    "for sample in tar.getmembers():\n",
    "    # extract counts and centroids into anndata\n",
    "    sample_tar = tarfile.open(fileobj=BytesIO(tar.extractfile(sample).read()))\n",
    "    adata = ad.AnnData(\n",
    "        pd.read_csv(\n",
    "            BytesIO(sample_tar.extractfile(\"./counts.csv\").read()), index_col=0\n",
    "        ).T\n",
    "    )\n",
    "    adata.obsm[\"spatial\"] = (\n",
    "        pd.read_csv(\n",
    "            BytesIO(sample_tar.extractfile(\"./centroids.csv\").read()),\n",
    "            index_col=0,\n",
    "            dtype={\"cell\": str},\n",
    "        )\n",
    "        .set_index(\"cell\")\n",
    "        .reindex(adata.obs_names)\n",
    "        .values\n",
    "    )\n",
    "    adatas.append(adata)\n",
    "\n",
    "# offset each spatial view so that they're nicely laid out\n",
    "max_width, max_height = np.array(\n",
    "    list(\n",
    "        map(\n",
    "            lambda adata: adata.obsm[\"spatial\"].max(axis=0)\n",
    "            - adata.obsm[\"spatial\"].min(axis=0),\n",
    "            adatas,\n",
    "        )\n",
    "    )\n",
    ").max(axis=0)\n",
    "for idx, adata in enumerate(adatas):\n",
    "    adata.obsm[\"spatial\"] = (\n",
    "        adata.obsm[\"spatial\"]\n",
    "        - adata.obsm[\"spatial\"].mean(axis=0)\n",
    "        + np.array([(idx % 3) * max_width * 1.1, (idx // 3) * max_height * 1.1])\n",
    "    )\n",
    "\n",
    "# generate final anndata object, keeping only cells with non zero counts\n",
    "adata = ad.concat(adatas)\n",
    "adata = adata[adata.X.sum(axis=1) != 0].copy()\n",
    "\n",
    "# run normalization/log-scaling\n",
    "adata.layers[\"counts\"] = adata.X.copy()\n",
    "sc.pp.normalize_total(adata)\n",
    "sc.pp.log1p(adata)"
   ]
  },
  {
   "cell_type": "code",
   "execution_count": null,
   "metadata": {},
   "outputs": [],
   "source": [
    "# generate SCS input directory\n",
    "\n",
    "from pathlib import Path\n",
    "\n",
    "from from_anndata import from_anndata\n",
    "\n",
    "print(\"generating scs input directory (can take a couple minutes)\")\n",
    "from_anndata(adata, Path(temp_dir.name), \"spatial\")\n",
    "print(\"finished scs input directory\")"
   ]
  },
  {
   "cell_type": "code",
   "execution_count": null,
   "metadata": {},
   "outputs": [],
   "source": [
    "# run SCS and integrate into anndata object\n",
    "\n",
    "from io import BytesIO\n",
    "from subprocess import check_output\n",
    "\n",
    "import pandas as pd\n",
    "\n",
    "# run SCS and select cells visually, saving output from stdout to bytes\n",
    "scs_out = check_output([\"cargo\", \"-q\", \"run\", \"--release\", temp_dir.name])\n",
    "\n",
    "# read SCS output to pandas dataframe, setting the df index to the cell column\n",
    "scs_out_df = pd.read_csv(BytesIO(scs_out), sep=\"\\t\", dtype={\"cell\": str}).set_index(\n",
    "    \"cell\"\n",
    ")\n",
    "\n",
    "# save to metadata column\n",
    "adata.obs[\"scs_selection\"] = scs_out_df"
   ]
  },
  {
   "cell_type": "code",
   "execution_count": null,
   "metadata": {},
   "outputs": [],
   "source": [
    "# demonstrate difference between full and subsetted data\n",
    "print(f\"all cells: {adata}\")\n",
    "print(f\"subsetted to only selected cells: {adata[adata.obs[\"scs_selection\"]]}\")"
   ]
  },
  {
   "cell_type": "code",
   "execution_count": null,
   "metadata": {},
   "outputs": [],
   "source": [
    "# remove tempdir once finished\n",
    "temp_dir.cleanup()"
   ]
  }
 ],
 "metadata": {
  "kernelspec": {
   "display_name": ".venv",
   "language": "python",
   "name": "python3"
  },
  "language_info": {
   "codemirror_mode": {
    "name": "ipython",
    "version": 3
   },
   "file_extension": ".py",
   "mimetype": "text/x-python",
   "name": "python",
   "nbconvert_exporter": "python",
   "pygments_lexer": "ipython3",
   "version": "3.12.2"
  }
 },
 "nbformat": 4,
 "nbformat_minor": 2
}
